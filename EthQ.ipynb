{
 "cells": [
  {
   "cell_type": "markdown",
   "metadata": {},
   "source": [
    "Question:\n",
    "\n",
    "Consider an Ethereum blockchain. Pick any testnet that you see fit. Write a simplest program that checks which of the smart contracts deployed on the network (a testnet of your choice) has the largest Ether balance (A) and which one has the largest amount of transactions that has been executed on its behalf (B). Which one is easier to answer? A or B? Why? \n",
    "\n",
    "Answer:\n",
    "\n",
    "In Ethereum network, smart contracts are treated very similar to wallets; each transaction with them has an address to their wallet. Also, as opposed to the UTXO approach of bitcoin, in Ethereum, the universal state trie is always kept up to date. The state trie containts the key value pairs of the wallets and their current state including balance and nonce. Nonce is the number that prevents the double spending attack; it is incremented for each transaction.\n",
    "This makes sense for regular transactions but for contracts, nonce counts the number of subcontracts that are created starting from 1 (EIP 161). Therefore nonce does not count the number of transactions created by a contract.\n",
    "This makes finding the balance easier (choice A)\n",
    "\n",
    "Implementation: \n",
    "\n",
    "I used web3 with Infura as provider on ropsten network"
   ]
  },
  {
   "cell_type": "code",
   "execution_count": 38,
   "metadata": {},
   "outputs": [],
   "source": [
    "import sys\n",
    "from web3 import Web3 \n",
    "INFURA_KEY = ''\n",
    "if not INFURA_KEY:\n",
    "    print('please insert the INFURA_KEY above before attempting to run the script.')\n",
    "    sys.exit()\n",
    "web3 = Web3(Web3.HTTPProvider(\"https://ropsten.infura.io/v3/%s\"%INFURA_KEY))"
   ]
  },
  {
   "cell_type": "code",
   "execution_count": 39,
   "metadata": {},
   "outputs": [
    {
     "name": "stdout",
     "output_type": "stream",
     "text": [
      "Enter an address: 0x190854329C1EdeF8cFC6325FA43f1710b3f73F57\n",
      "Enter first block for search (default=0): 4316614\n",
      "Enter the last block for search (default(latest)=4317197: 4317135\n"
     ]
    }
   ],
   "source": [
    "latest = web3.eth.getBlock('latest')['number']\n",
    "address = input('Enter an address: ').lower()\n",
    "start_block = input('Enter first block for search (default=0): ')\n",
    "end_block = input('Enter the last block for search (default(latest)=%d: '%latest)\n",
    "\n",
    "start_block = 0 if start_block == '' else int(start_block)\n",
    "end_block = latest if end_block == '' else int(end_block)"
   ]
  },
  {
   "cell_type": "code",
   "execution_count": 40,
   "metadata": {},
   "outputs": [
    {
     "name": "stdout",
     "output_type": "stream",
     "text": [
      "Searching for  0x190854329c1edef8cfc6325fa43f1710b3f73f57\n",
      "The balance is:  0\n",
      "Searching for the count of transactions from 4316614 to  4317135\n",
      "10 percent done: 4316667 of 4317135\n",
      "20 percent done: 4316719 of 4317135\n",
      "30 percent done: 4316771 of 4317135\n",
      "40 percent done: 4316823 of 4317135\n",
      "50 percent done: 4316875 of 4317135\n",
      "60 percent done: 4316927 of 4317135\n",
      "70 percent done: 4316979 of 4317135\n",
      "80 percent done: 4317031 of 4317135\n",
      "90 percent done: 4317083 of 4317135\n",
      "100 percent done: 4317135 of 4317135\n",
      "Done! Transactions found:  25\n"
     ]
    }
   ],
   "source": [
    "# check to see if it's contract not regular wallet\n",
    "laddress = web3.toChecksumAddress(address)\n",
    "assert len(web3.eth.getCode(laddress)) > 2\n",
    "\n",
    "print('Searching for ', address)\n",
    "balance = web3.eth.getBalance(laddress)\n",
    "print('The balance is: ', balance)\n",
    "\n",
    "print('Searching for the count of transactions from %d to '%start_block, end_block)\n",
    "transactions_found, last_print_percent = 0, 0\n",
    "\n",
    "for b in range(start_block, end_block+1):\n",
    "    \n",
    "    block = web3.eth.getBlock(b, full_transactions=True)\n",
    "    \n",
    "    for tx in block.transactions:\n",
    "        if tx['to']:\n",
    "                if tx['to'].lower() == address:\n",
    "                    transactions_found += 1\n",
    "    \n",
    "    percent = int((b-start_block)/(end_block-start_block) * 10)\n",
    "    if percent > last_print_percent:\n",
    "        print('%d0 percent done: %d of %d'%(percent, b, end_block))\n",
    "        last_print_percent += 1\n",
    "\n",
    "print('Done! Transactions found: ', transactions_found)"
   ]
  },
  {
   "cell_type": "markdown",
   "metadata": {},
   "source": [
    "It is worth noting that internal transactions are not recorded on the blockchain (and only available in EVM) therefore 'from' transactions are always empty"
   ]
  }
 ],
 "metadata": {
  "kernelspec": {
   "display_name": "Python 3",
   "language": "python",
   "name": "python3"
  },
  "language_info": {
   "codemirror_mode": {
    "name": "ipython",
    "version": 3
   },
   "file_extension": ".py",
   "mimetype": "text/x-python",
   "name": "python",
   "nbconvert_exporter": "python",
   "pygments_lexer": "ipython3",
   "version": "3.6.3"
  }
 },
 "nbformat": 4,
 "nbformat_minor": 2
}
